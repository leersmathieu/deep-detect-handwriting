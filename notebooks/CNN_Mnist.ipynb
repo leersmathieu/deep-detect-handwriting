{
  "nbformat": 4,
  "nbformat_minor": 0,
  "metadata": {
    "colab": {
      "name": "CNN-Mnist.ipynb",
      "provenance": [],
      "collapsed_sections": [],
      "toc_visible": true
    },
    "kernelspec": {
      "name": "python3",
      "display_name": "Python 3"
    },
    "accelerator": "GPU"
  },
  "cells": [
    {
      "cell_type": "markdown",
      "metadata": {
        "id": "hg4EKB7Z7dLg"
      },
      "source": [
        "# Imports\r\n"
      ]
    },
    {
      "cell_type": "code",
      "metadata": {
        "colab": {
          "base_uri": "https://localhost:8080/"
        },
        "id": "A7ziZKuB1MtH",
        "outputId": "f1dedb3c-8b5a-438b-ef3b-6a8e9237221c"
      },
      "source": [
        "from tensorflow.keras import layers\r\n",
        "from tensorflow import keras\r\n",
        "import tensorflow as tf\r\n",
        "\r\n",
        "import numpy as np\r\n",
        "import pandas as pd\r\n",
        "import matplotlib.pyplot as plt\r\n",
        "import seaborn as sns\r\n",
        "\r\n",
        "print(tf.__version__)"
      ],
      "execution_count": 42,
      "outputs": [
        {
          "output_type": "stream",
          "text": [
            "2.4.1\n"
          ],
          "name": "stdout"
        }
      ]
    },
    {
      "cell_type": "code",
      "metadata": {
        "id": "3NlljcuV7gJF"
      },
      "source": [
        "mnist = tf.keras.datasets.mnist\r\n",
        "\r\n",
        "(X_train, y_train), (X_test, y_test) = mnist.load_data()"
      ],
      "execution_count": 43,
      "outputs": []
    },
    {
      "cell_type": "code",
      "metadata": {
        "id": "3ZuNP6-l8d-7"
      },
      "source": [
        "def pprint_numpy_matrix(mat, fmt=\"g\"):\r\n",
        "    \"\"\"Pretty print a numpy matrix\"\"\"\r\n",
        "\r\n",
        "    col_maxes = [max([len((\"{:\"+fmt+\"}\").format(x)) for x in col]) for col in mat.T]\r\n",
        "\r\n",
        "    for x in mat:\r\n",
        "        for i, y in enumerate(x):\r\n",
        "            print((\"{:\"+str(col_maxes[i])+fmt+\"}\").format(y), end=\"  \")\r\n",
        "        print(\"\")"
      ],
      "execution_count": 44,
      "outputs": []
    },
    {
      "cell_type": "markdown",
      "metadata": {
        "id": "SPWGrqtR9j9V"
      },
      "source": [
        "# Data Analysis"
      ]
    },
    {
      "cell_type": "code",
      "metadata": {
        "colab": {
          "base_uri": "https://localhost:8080/"
        },
        "id": "cbOmVErl9m6h",
        "outputId": "99f4aad0-1d86-4d4f-cea1-cca0dce281d9"
      },
      "source": [
        "print(type(X_train))\r\n",
        "print(type(y_train))"
      ],
      "execution_count": 45,
      "outputs": [
        {
          "output_type": "stream",
          "text": [
            "<class 'numpy.ndarray'>\n",
            "<class 'numpy.ndarray'>\n"
          ],
          "name": "stdout"
        }
      ]
    },
    {
      "cell_type": "code",
      "metadata": {
        "colab": {
          "base_uri": "https://localhost:8080/"
        },
        "id": "b3xBS3Ey9x2z",
        "outputId": "90764e2e-c1dd-4c2a-d8f0-24ddcf1615a2"
      },
      "source": [
        "X_train.shape"
      ],
      "execution_count": 46,
      "outputs": [
        {
          "output_type": "execute_result",
          "data": {
            "text/plain": [
              "(60000, 28, 28)"
            ]
          },
          "metadata": {
            "tags": []
          },
          "execution_count": 46
        }
      ]
    },
    {
      "cell_type": "code",
      "metadata": {
        "colab": {
          "base_uri": "https://localhost:8080/"
        },
        "id": "DnacpDX099fx",
        "outputId": "5a61e277-0ab2-4cf3-9e99-637012600a97"
      },
      "source": [
        "y_train.shape"
      ],
      "execution_count": 47,
      "outputs": [
        {
          "output_type": "execute_result",
          "data": {
            "text/plain": [
              "(60000,)"
            ]
          },
          "metadata": {
            "tags": []
          },
          "execution_count": 47
        }
      ]
    },
    {
      "cell_type": "code",
      "metadata": {
        "colab": {
          "base_uri": "https://localhost:8080/"
        },
        "id": "9elOud8y-cdI",
        "outputId": "aa9323aa-56d1-4200-b83d-eb4af7189589"
      },
      "source": [
        "y_train[0]"
      ],
      "execution_count": 48,
      "outputs": [
        {
          "output_type": "execute_result",
          "data": {
            "text/plain": [
              "5"
            ]
          },
          "metadata": {
            "tags": []
          },
          "execution_count": 48
        }
      ]
    },
    {
      "cell_type": "code",
      "metadata": {
        "colab": {
          "base_uri": "https://localhost:8080/"
        },
        "id": "3aqtShE9-p7m",
        "outputId": "71b78bea-c93e-4382-9308-a013eeb95866"
      },
      "source": [
        "pprint_numpy_matrix(X_train[0])"
      ],
      "execution_count": 49,
      "outputs": [
        {
          "output_type": "stream",
          "text": [
            "0  0  0  0    0    0    0    0    0    0    0    0    0    0    0    0    0    0    0    0    0    0    0    0  0  0  0  0  \n",
            "0  0  0  0    0    0    0    0    0    0    0    0    0    0    0    0    0    0    0    0    0    0    0    0  0  0  0  0  \n",
            "0  0  0  0    0    0    0    0    0    0    0    0    0    0    0    0    0    0    0    0    0    0    0    0  0  0  0  0  \n",
            "0  0  0  0    0    0    0    0    0    0    0    0    0    0    0    0    0    0    0    0    0    0    0    0  0  0  0  0  \n",
            "0  0  0  0    0    0    0    0    0    0    0    0    0    0    0    0    0    0    0    0    0    0    0    0  0  0  0  0  \n",
            "0  0  0  0    0    0    0    0    0    0    0    0    3   18   18   18  126  136  175   26  166  255  247  127  0  0  0  0  \n",
            "0  0  0  0    0    0    0    0   30   36   94  154  170  253  253  253  253  253  225  172  253  242  195   64  0  0  0  0  \n",
            "0  0  0  0    0    0    0   49  238  253  253  253  253  253  253  253  253  251   93   82   82   56   39    0  0  0  0  0  \n",
            "0  0  0  0    0    0    0   18  219  253  253  253  253  253  198  182  247  241    0    0    0    0    0    0  0  0  0  0  \n",
            "0  0  0  0    0    0    0    0   80  156  107  253  253  205   11    0   43  154    0    0    0    0    0    0  0  0  0  0  \n",
            "0  0  0  0    0    0    0    0    0   14    1  154  253   90    0    0    0    0    0    0    0    0    0    0  0  0  0  0  \n",
            "0  0  0  0    0    0    0    0    0    0    0  139  253  190    2    0    0    0    0    0    0    0    0    0  0  0  0  0  \n",
            "0  0  0  0    0    0    0    0    0    0    0   11  190  253   70    0    0    0    0    0    0    0    0    0  0  0  0  0  \n",
            "0  0  0  0    0    0    0    0    0    0    0    0   35  241  225  160  108    1    0    0    0    0    0    0  0  0  0  0  \n",
            "0  0  0  0    0    0    0    0    0    0    0    0    0   81  240  253  253  119   25    0    0    0    0    0  0  0  0  0  \n",
            "0  0  0  0    0    0    0    0    0    0    0    0    0    0   45  186  253  253  150   27    0    0    0    0  0  0  0  0  \n",
            "0  0  0  0    0    0    0    0    0    0    0    0    0    0    0   16   93  252  253  187    0    0    0    0  0  0  0  0  \n",
            "0  0  0  0    0    0    0    0    0    0    0    0    0    0    0    0    0  249  253  249   64    0    0    0  0  0  0  0  \n",
            "0  0  0  0    0    0    0    0    0    0    0    0    0    0   46  130  183  253  253  207    2    0    0    0  0  0  0  0  \n",
            "0  0  0  0    0    0    0    0    0    0    0    0   39  148  229  253  253  253  250  182    0    0    0    0  0  0  0  0  \n",
            "0  0  0  0    0    0    0    0    0    0   24  114  221  253  253  253  253  201   78    0    0    0    0    0  0  0  0  0  \n",
            "0  0  0  0    0    0    0    0   23   66  213  253  253  253  253  198   81    2    0    0    0    0    0    0  0  0  0  0  \n",
            "0  0  0  0    0    0   18  171  219  253  253  253  253  195   80    9    0    0    0    0    0    0    0    0  0  0  0  0  \n",
            "0  0  0  0   55  172  226  253  253  253  253  244  133   11    0    0    0    0    0    0    0    0    0    0  0  0  0  0  \n",
            "0  0  0  0  136  253  253  253  212  135  132   16    0    0    0    0    0    0    0    0    0    0    0    0  0  0  0  0  \n",
            "0  0  0  0    0    0    0    0    0    0    0    0    0    0    0    0    0    0    0    0    0    0    0    0  0  0  0  0  \n",
            "0  0  0  0    0    0    0    0    0    0    0    0    0    0    0    0    0    0    0    0    0    0    0    0  0  0  0  0  \n",
            "0  0  0  0    0    0    0    0    0    0    0    0    0    0    0    0    0    0    0    0    0    0    0    0  0  0  0  0  \n"
          ],
          "name": "stdout"
        }
      ]
    },
    {
      "cell_type": "code",
      "metadata": {
        "colab": {
          "base_uri": "https://localhost:8080/",
          "height": 282
        },
        "id": "bbFg3yby_P4m",
        "outputId": "17436b92-bd39-4fb7-e445-6bbd2e6d7fb7"
      },
      "source": [
        "# index can goes from 0 to 59 999\r\n",
        "index = 0\r\n",
        "\r\n",
        "# plot the image\r\n",
        "plt.imshow(X_train[index], cmap='Greys', interpolation='nearest')\r\n",
        "plt.show()\r\n",
        "\r\n",
        "print('Cette image représente le chiffre', y_train[index])"
      ],
      "execution_count": 50,
      "outputs": [
        {
          "output_type": "display_data",
          "data": {
            "image/png": "[encoded data removed]",
            "text/plain": [
              "<Figure size 432x288 with 1 Axes>"
            ]
          },
          "metadata": {
            "tags": [],
            "needs_background": "light"
          }
        },
        {
          "output_type": "stream",
          "text": [
            "Cette image représente le chiffre 5\n"
          ],
          "name": "stdout"
        }
      ]
    },
    {
      "cell_type": "markdown",
      "metadata": {
        "id": "6TwTCqnjA0xu"
      },
      "source": [
        "# Cleaning"
      ]
    },
    {
      "cell_type": "code",
      "metadata": {
        "id": "mVuUlRJOA2va"
      },
      "source": [
        "y_train = keras.utils.to_categorical(y_train)\r\n",
        "y_test = keras.utils.to_categorical(y_test)"
      ],
      "execution_count": 51,
      "outputs": []
    },
    {
      "cell_type": "code",
      "metadata": {
        "colab": {
          "base_uri": "https://localhost:8080/"
        },
        "id": "9SZZjmCeBa-y",
        "outputId": "8d8e3631-f1b4-434a-81d9-6e85d1585fda"
      },
      "source": [
        "y_train[0]"
      ],
      "execution_count": 52,
      "outputs": [
        {
          "output_type": "execute_result",
          "data": {
            "text/plain": [
              "array([0., 0., 0., 0., 0., 1., 0., 0., 0., 0.], dtype=float32)"
            ]
          },
          "metadata": {
            "tags": []
          },
          "execution_count": 52
        }
      ]
    },
    {
      "cell_type": "code",
      "metadata": {
        "id": "k-6HJ5FYBgUI"
      },
      "source": [
        "# Reshape\r\n",
        "X_train = X_train.reshape((X_train.shape[0], 28, 28, 1))\r\n",
        "X_test = X_test.reshape((X_test.shape[0], 28, 28, 1))"
      ],
      "execution_count": 53,
      "outputs": []
    },
    {
      "cell_type": "code",
      "metadata": {
        "id": "OjEgk4QICIPR"
      },
      "source": [
        "X_train = X_train.astype('float32')\r\n",
        "X_test = X_test.astype('float32')"
      ],
      "execution_count": 54,
      "outputs": []
    },
    {
      "cell_type": "code",
      "metadata": {
        "id": "y-Fzpfg1CNrX"
      },
      "source": [
        "X_train = X_train / 255.0\r\n",
        "X_test = X_test / 255.0"
      ],
      "execution_count": 55,
      "outputs": []
    },
    {
      "cell_type": "code",
      "metadata": {
        "colab": {
          "base_uri": "https://localhost:8080/"
        },
        "id": "l9gfgDWpCf4e",
        "outputId": "a7ce389b-0b07-452c-9d37-5a54dcfba3f8"
      },
      "source": [
        "print(\"min\", X_train[0].min())\r\n",
        "print(\"max\", X_train[0].max())"
      ],
      "execution_count": 56,
      "outputs": [
        {
          "output_type": "stream",
          "text": [
            "min 0.0\n",
            "max 1.0\n"
          ],
          "name": "stdout"
        }
      ]
    },
    {
      "cell_type": "code",
      "metadata": {
        "colab": {
          "base_uri": "https://localhost:8080/"
        },
        "id": "Ehh8hobzDSv_",
        "outputId": "20f7c23a-895a-45cd-d9c5-beaa94811894"
      },
      "source": [
        "print(\"max\", X_train[0].max())"
      ],
      "execution_count": 57,
      "outputs": [
        {
          "output_type": "stream",
          "text": [
            "max 1.0\n"
          ],
          "name": "stdout"
        }
      ]
    },
    {
      "cell_type": "code",
      "metadata": {
        "id": "uxftQETZDU-k"
      },
      "source": [
        ""
      ],
      "execution_count": 57,
      "outputs": []
    },
    {
      "cell_type": "markdown",
      "metadata": {
        "id": "LqfZgcklDcMG"
      },
      "source": [
        "# Model creation"
      ]
    },
    {
      "cell_type": "code",
      "metadata": {
        "id": "TnebUg1fDjev"
      },
      "source": [
        "def create_model():\r\n",
        "\r\n",
        "  # Init a sequential model\r\n",
        "  model = keras.Sequential([\r\n",
        "\r\n",
        "\r\n",
        "    # Part 1: Feature detector\r\n",
        "    # --------------------------------------------------------------------------\r\n",
        "\r\n",
        "    # First VGG block\r\n",
        "    # Hidden layer 1: 32 filters, 3x3 kernel, relu activation function\r\n",
        "    layers.Conv2D(32, (3, 3), padding='same', input_shape=(28, 28, 1), kernel_initializer='he_uniform', activation='relu'),\r\n",
        "    layers.BatchNormalization(),\r\n",
        "\r\n",
        "    # Hidden layer 2: 32 filters, 3x3 kernel, relu activation function\r\n",
        "    layers.Conv2D(32, (3, 3), padding='same', kernel_initializer='he_uniform', activation='relu'),\r\n",
        "    layers.BatchNormalization(),\r\n",
        "\r\n",
        "    layers.MaxPooling2D((2, 2)),\r\n",
        "    layers.Dropout(0.2),\r\n",
        "\r\n",
        "\r\n",
        "    # Second VGG block\r\n",
        "    # Hidden layer 3: 64 filters, 3x3 kernel, relu activation function\r\n",
        "    layers.Conv2D(64, (3, 3), padding='same', kernel_initializer='he_uniform', activation='relu'),\r\n",
        "    layers.BatchNormalization(),\r\n",
        "\r\n",
        "    # Hidden layer 4: 64 filters, 3x3 kernel, relu activation function\r\n",
        "    layers.Conv2D(64, (3, 3), padding='same', kernel_initializer='he_uniform', activation='relu'),\r\n",
        "    layers.BatchNormalization(),\r\n",
        "\r\n",
        "    layers.MaxPooling2D((2, 2)),\r\n",
        "    layers.Dropout(0.3),\r\n",
        "\r\n",
        "\r\n",
        "    # Third VGG block\r\n",
        "    # Hidden layer 5: 128 filters, 3x3 kernel, relu activation function\r\n",
        "    layers.Conv2D(128, (3, 3), padding='same', kernel_initializer='he_uniform', activation='relu'),\r\n",
        "    layers.BatchNormalization(),\r\n",
        "\r\n",
        "    # Hidden layer 6: 128 filters, 3x3 kernel, relu activation function\r\n",
        "    layers.Conv2D(128, (3, 3), padding='same', kernel_initializer='he_uniform', activation='relu'),\r\n",
        "    layers.BatchNormalization(),\r\n",
        "\r\n",
        "    layers.MaxPooling2D((2, 2)),\r\n",
        "    layers.Dropout(0.4),\r\n",
        "    layers.Flatten(),\r\n",
        "\r\n",
        "\r\n",
        "    # Part 2: classifier\r\n",
        "    # --------------------------------------------------------------------------\r\n",
        "\r\n",
        "    # Simple ANN\r\n",
        "    layers.Dense(128, kernel_initializer='he_uniform', activation='relu'),\r\n",
        "    layers.BatchNormalization(),\r\n",
        "    layers.Dropout(0.5),\r\n",
        "\r\n",
        "\r\n",
        "    # Output layer\r\n",
        "    layers.Dense(10, activation='softmax')\r\n",
        "\r\n",
        "  ])\r\n",
        "\r\n",
        "  # Compile model \r\n",
        "  model.compile(loss=keras.losses.categorical_crossentropy,\r\n",
        "            optimizer=\"adam\",\r\n",
        "            metrics=['accuracy'])\r\n",
        "\r\n",
        "  return model"
      ],
      "execution_count": 58,
      "outputs": []
    },
    {
      "cell_type": "code",
      "metadata": {
        "id": "z8AA7h5fKPmw"
      },
      "source": [
        "with tf.device('/device:GPU:0'):\r\n",
        "  model = create_model()"
      ],
      "execution_count": 59,
      "outputs": []
    },
    {
      "cell_type": "code",
      "metadata": {
        "colab": {
          "base_uri": "https://localhost:8080/"
        },
        "id": "dVAnoU4iLpgC",
        "outputId": "2afe68f2-d9a8-4aec-9916-409375db207f"
      },
      "source": [
        "model.summary()"
      ],
      "execution_count": 60,
      "outputs": [
        {
          "output_type": "stream",
          "text": [
            "Model: \"sequential_2\"\n",
            "_________________________________________________________________\n",
            "Layer (type)                 Output Shape              Param #   \n",
            "=================================================================\n",
            "conv2d_11 (Conv2D)           (None, 28, 28, 32)        320       \n",
            "_________________________________________________________________\n",
            "batch_normalization_13 (Batc (None, 28, 28, 32)        128       \n",
            "_________________________________________________________________\n",
            "conv2d_12 (Conv2D)           (None, 28, 28, 32)        9248      \n",
            "_________________________________________________________________\n",
            "batch_normalization_14 (Batc (None, 28, 28, 32)        128       \n",
            "_________________________________________________________________\n",
            "max_pooling2d_6 (MaxPooling2 (None, 14, 14, 32)        0         \n",
            "_________________________________________________________________\n",
            "dropout_8 (Dropout)          (None, 14, 14, 32)        0         \n",
            "_________________________________________________________________\n",
            "conv2d_13 (Conv2D)           (None, 14, 14, 64)        18496     \n",
            "_________________________________________________________________\n",
            "batch_normalization_15 (Batc (None, 14, 14, 64)        256       \n",
            "_________________________________________________________________\n",
            "conv2d_14 (Conv2D)           (None, 14, 14, 64)        36928     \n",
            "_________________________________________________________________\n",
            "batch_normalization_16 (Batc (None, 14, 14, 64)        256       \n",
            "_________________________________________________________________\n",
            "max_pooling2d_7 (MaxPooling2 (None, 7, 7, 64)          0         \n",
            "_________________________________________________________________\n",
            "dropout_9 (Dropout)          (None, 7, 7, 64)          0         \n",
            "_________________________________________________________________\n",
            "conv2d_15 (Conv2D)           (None, 7, 7, 128)         73856     \n",
            "_________________________________________________________________\n",
            "batch_normalization_17 (Batc (None, 7, 7, 128)         512       \n",
            "_________________________________________________________________\n",
            "conv2d_16 (Conv2D)           (None, 7, 7, 128)         147584    \n",
            "_________________________________________________________________\n",
            "batch_normalization_18 (Batc (None, 7, 7, 128)         512       \n",
            "_________________________________________________________________\n",
            "max_pooling2d_8 (MaxPooling2 (None, 3, 3, 128)         0         \n",
            "_________________________________________________________________\n",
            "dropout_10 (Dropout)         (None, 3, 3, 128)         0         \n",
            "_________________________________________________________________\n",
            "flatten_2 (Flatten)          (None, 1152)              0         \n",
            "_________________________________________________________________\n",
            "dense_4 (Dense)              (None, 128)               147584    \n",
            "_________________________________________________________________\n",
            "batch_normalization_19 (Batc (None, 128)               512       \n",
            "_________________________________________________________________\n",
            "dropout_11 (Dropout)         (None, 128)               0         \n",
            "_________________________________________________________________\n",
            "dense_5 (Dense)              (None, 10)                1290      \n",
            "=================================================================\n",
            "Total params: 437,610\n",
            "Trainable params: 436,458\n",
            "Non-trainable params: 1,152\n",
            "_________________________________________________________________\n"
          ],
          "name": "stdout"
        }
      ]
    },
    {
      "cell_type": "code",
      "metadata": {
        "id": "CGMO2IhcMYbh"
      },
      "source": [
        "epochs = 20"
      ],
      "execution_count": 61,
      "outputs": []
    },
    {
      "cell_type": "code",
      "metadata": {
        "colab": {
          "base_uri": "https://localhost:8080/"
        },
        "id": "DjxSVtfjLq9i",
        "outputId": "55d5db84-28ad-49a4-a780-e3a347b047a3"
      },
      "source": [
        "cnn = model.fit(X_train, y_train, batch_size=64, epochs=epochs, validation_data=(X_test,y_test), shuffle=True)"
      ],
      "execution_count": 62,
      "outputs": [
        {
          "output_type": "stream",
          "text": [
            "Epoch 1/20\n",
            "938/938 [==============================] - 8s 8ms/step - loss: 0.6956 - accuracy: 0.7933 - val_loss: 0.0392 - val_accuracy: 0.9860\n",
            "Epoch 2/20\n",
            "938/938 [==============================] - 7s 8ms/step - loss: 0.0858 - accuracy: 0.9736 - val_loss: 0.0273 - val_accuracy: 0.9908\n",
            "Epoch 3/20\n",
            "938/938 [==============================] - 7s 8ms/step - loss: 0.0569 - accuracy: 0.9833 - val_loss: 0.0287 - val_accuracy: 0.9907\n",
            "Epoch 4/20\n",
            "938/938 [==============================] - 7s 8ms/step - loss: 0.0488 - accuracy: 0.9855 - val_loss: 0.0256 - val_accuracy: 0.9914\n",
            "Epoch 5/20\n",
            "938/938 [==============================] - 7s 8ms/step - loss: 0.0391 - accuracy: 0.9881 - val_loss: 0.0236 - val_accuracy: 0.9922\n",
            "Epoch 6/20\n",
            "938/938 [==============================] - 7s 8ms/step - loss: 0.0386 - accuracy: 0.9886 - val_loss: 0.0205 - val_accuracy: 0.9929\n",
            "Epoch 7/20\n",
            "938/938 [==============================] - 7s 8ms/step - loss: 0.0340 - accuracy: 0.9894 - val_loss: 0.0214 - val_accuracy: 0.9925\n",
            "Epoch 8/20\n",
            "938/938 [==============================] - 7s 8ms/step - loss: 0.0270 - accuracy: 0.9913 - val_loss: 0.0211 - val_accuracy: 0.9937\n",
            "Epoch 9/20\n",
            "938/938 [==============================] - 7s 8ms/step - loss: 0.0281 - accuracy: 0.9911 - val_loss: 0.0211 - val_accuracy: 0.9930\n",
            "Epoch 10/20\n",
            "938/938 [==============================] - 7s 8ms/step - loss: 0.0254 - accuracy: 0.9927 - val_loss: 0.0191 - val_accuracy: 0.9938\n",
            "Epoch 11/20\n",
            "938/938 [==============================] - 7s 8ms/step - loss: 0.0232 - accuracy: 0.9933 - val_loss: 0.0280 - val_accuracy: 0.9913\n",
            "Epoch 12/20\n",
            "938/938 [==============================] - 7s 8ms/step - loss: 0.0213 - accuracy: 0.9931 - val_loss: 0.0183 - val_accuracy: 0.9947\n",
            "Epoch 13/20\n",
            "938/938 [==============================] - 7s 8ms/step - loss: 0.0154 - accuracy: 0.9948 - val_loss: 0.0193 - val_accuracy: 0.9940\n",
            "Epoch 14/20\n",
            "938/938 [==============================] - 7s 8ms/step - loss: 0.0177 - accuracy: 0.9941 - val_loss: 0.0200 - val_accuracy: 0.9938\n",
            "Epoch 15/20\n",
            "938/938 [==============================] - 7s 8ms/step - loss: 0.0164 - accuracy: 0.9952 - val_loss: 0.0197 - val_accuracy: 0.9938\n",
            "Epoch 16/20\n",
            "938/938 [==============================] - 7s 8ms/step - loss: 0.0149 - accuracy: 0.9956 - val_loss: 0.0180 - val_accuracy: 0.9940\n",
            "Epoch 17/20\n",
            "938/938 [==============================] - 7s 8ms/step - loss: 0.0131 - accuracy: 0.9955 - val_loss: 0.0212 - val_accuracy: 0.9949\n",
            "Epoch 18/20\n",
            "938/938 [==============================] - 7s 8ms/step - loss: 0.0141 - accuracy: 0.9958 - val_loss: 0.0152 - val_accuracy: 0.9955\n",
            "Epoch 19/20\n",
            "938/938 [==============================] - 7s 8ms/step - loss: 0.0119 - accuracy: 0.9964 - val_loss: 0.0178 - val_accuracy: 0.9951\n",
            "Epoch 20/20\n",
            "938/938 [==============================] - 7s 8ms/step - loss: 0.0111 - accuracy: 0.9968 - val_loss: 0.0179 - val_accuracy: 0.9948\n"
          ],
          "name": "stdout"
        }
      ]
    },
    {
      "cell_type": "code",
      "metadata": {
        "colab": {
          "base_uri": "https://localhost:8080/"
        },
        "id": "olteYS3eOIgO",
        "outputId": "74df7bab-f995-4906-cc35-51de06edceb7"
      },
      "source": [
        "scores = model.evaluate(X_test, y_test)\r\n",
        "print('Accuracy : %.2f%%' % (scores[1]*100))"
      ],
      "execution_count": 63,
      "outputs": [
        {
          "output_type": "stream",
          "text": [
            "313/313 [==============================] - 1s 3ms/step - loss: 0.0179 - accuracy: 0.9948\n",
            "Accuracy : 99.48%\n"
          ],
          "name": "stdout"
        }
      ]
    },
    {
      "cell_type": "markdown",
      "metadata": {
        "id": "BkJViveNPJaR"
      },
      "source": [
        "# Model evaluation"
      ]
    },
    {
      "cell_type": "code",
      "metadata": {
        "colab": {
          "base_uri": "https://localhost:8080/",
          "height": 265
        },
        "id": "pkuQWWA2OYne",
        "outputId": "b2b9e9d6-e540-4ba5-ec8b-5b0b727c76d9"
      },
      "source": [
        "plt.plot(cnn.history['loss'], label='Train Loss')\r\n",
        "plt.plot(cnn.history['val_loss'], label='Validation Loss')\r\n",
        "plt.legend()\r\n",
        "plt.show()"
      ],
      "execution_count": 64,
      "outputs": [
        {
          "output_type": "display_data",
          "data": {
            "image/png": "[encoded data removed]",
            "text/plain": [
              "<Figure size 432x288 with 1 Axes>"
            ]
          },
          "metadata": {
            "tags": [],
            "needs_background": "light"
          }
        }
      ]
    },
    {
      "cell_type": "code",
      "metadata": {
        "colab": {
          "base_uri": "https://localhost:8080/",
          "height": 268
        },
        "id": "y0PcKrr3P9Rh",
        "outputId": "ea1a3c60-9e87-450d-8656-6e538c201967"
      },
      "source": [
        "plt.plot(cnn.history['accuracy'], label='Train Accuracy')\r\n",
        "plt.plot(cnn.history['val_accuracy'], label='Validation Accuracy')\r\n",
        "plt.legend()\r\n",
        "plt.show()"
      ],
      "execution_count": 65,
      "outputs": [
        {
          "output_type": "display_data",
          "data": {
            "image/png": "[encoded data removed]",
            "text/plain": [
              "<Figure size 432x288 with 1 Axes>"
            ]
          },
          "metadata": {
            "tags": [],
            "needs_background": "light"
          }
        }
      ]
    },
    {
      "cell_type": "markdown",
      "metadata": {
        "id": "rnH8CQdCTWLT"
      },
      "source": [
        "# Prediction"
      ]
    },
    {
      "cell_type": "code",
      "metadata": {
        "id": "lVdiUg6lTZoB"
      },
      "source": [
        "width, height, *_ = X_train[0].shape\r\n",
        "\r\n",
        "prob = model.predict(X_test[11].reshape(1, width, height, 1))\r\n",
        "predicted_class = np.argmax(prob, axis=-1)[0]"
      ],
      "execution_count": 66,
      "outputs": []
    },
    {
      "cell_type": "code",
      "metadata": {
        "colab": {
          "base_uri": "https://localhost:8080/"
        },
        "id": "zwhVGNthUAbn",
        "outputId": "7041d3de-0eb4-4254-b730-83fb658ef98f"
      },
      "source": [
        "predicted_class"
      ],
      "execution_count": 67,
      "outputs": [
        {
          "output_type": "execute_result",
          "data": {
            "text/plain": [
              "6"
            ]
          },
          "metadata": {
            "tags": []
          },
          "execution_count": 67
        }
      ]
    },
    {
      "cell_type": "code",
      "metadata": {
        "colab": {
          "base_uri": "https://localhost:8080/"
        },
        "id": "pFNXROabWx9J",
        "outputId": "c52beb41-1259-4a91-d896-97418cf6f588"
      },
      "source": [
        "np.argmax(y_test[11])"
      ],
      "execution_count": 68,
      "outputs": [
        {
          "output_type": "execute_result",
          "data": {
            "text/plain": [
              "6"
            ]
          },
          "metadata": {
            "tags": []
          },
          "execution_count": 68
        }
      ]
    },
    {
      "cell_type": "code",
      "metadata": {
        "id": "nCqv7ejhXNPD"
      },
      "source": [
        ""
      ],
      "execution_count": 68,
      "outputs": []
    },
    {
      "cell_type": "markdown",
      "metadata": {
        "id": "S34kfSTnYnWb"
      },
      "source": [
        "# Saving model"
      ]
    },
    {
      "cell_type": "code",
      "metadata": {
        "id": "OGLrr7bNYswd"
      },
      "source": [
        "model.save('mnist_cnn_model.h5')"
      ],
      "execution_count": 69,
      "outputs": []
    },
    {
      "cell_type": "code",
      "metadata": {
        "id": "7LxaXUZ7YyK_"
      },
      "source": [
        ""
      ],
      "execution_count": 69,
      "outputs": []
    }
  ]
}