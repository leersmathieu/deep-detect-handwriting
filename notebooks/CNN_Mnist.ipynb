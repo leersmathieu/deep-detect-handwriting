{
  "nbformat": 4,
  "nbformat_minor": 0,
  "metadata": {
    "colab": {
      "name": "CNN-Mnist.ipynb",
      "provenance": [],
      "collapsed_sections": [],
      "toc_visible": true
    },
    "kernelspec": {
      "name": "python3",
      "display_name": "Python 3"
    },
    "accelerator": "GPU"
  },
  "cells": [
    {
      "cell_type": "markdown",
      "metadata": {
        "id": "hg4EKB7Z7dLg"
      },
      "source": [
        "# Imports\r\n"
      ]
    },
    {
      "cell_type": "code",
      "metadata": {
        "colab": {
          "base_uri": "https://localhost:8080/"
        },
        "id": "A7ziZKuB1MtH",
        "outputId": "13bf7741-048f-401a-af0b-7f45f4215f50"
      },
      "source": [
        "from tensorflow.keras import layers\r\n",
        "from tensorflow import keras\r\n",
        "import tensorflow as tf\r\n",
        "\r\n",
        "import numpy as np\r\n",
        "import pandas as pd\r\n",
        "import matplotlib.pyplot as plt\r\n",
        "import seaborn as sns\r\n",
        "\r\n",
        "print(tf.__version__)"
      ],
      "execution_count": 101,
      "outputs": [
        {
          "output_type": "stream",
          "text": [
            "2.4.1\n"
          ],
          "name": "stdout"
        }
      ]
    },
    {
      "cell_type": "code",
      "metadata": {
        "id": "3NlljcuV7gJF"
      },
      "source": [
        "mnist = tf.keras.datasets.mnist\r\n",
        "\r\n",
        "(X_train, y_train), (X_test, y_test) = mnist.load_data()"
      ],
      "execution_count": 102,
      "outputs": []
    },
    {
      "cell_type": "code",
      "metadata": {
        "id": "3ZuNP6-l8d-7"
      },
      "source": [
        "def pprint_numpy_matrix(mat, fmt=\"g\"):\r\n",
        "    \"\"\"Pretty print a numpy matrix\"\"\"\r\n",
        "\r\n",
        "    col_maxes = [max([len((\"{:\"+fmt+\"}\").format(x)) for x in col]) for col in mat.T]\r\n",
        "\r\n",
        "    for x in mat:\r\n",
        "        for i, y in enumerate(x):\r\n",
        "            print((\"{:\"+str(col_maxes[i])+fmt+\"}\").format(y), end=\"  \")\r\n",
        "        print(\"\")"
      ],
      "execution_count": 103,
      "outputs": []
    },
    {
      "cell_type": "markdown",
      "metadata": {
        "id": "SPWGrqtR9j9V"
      },
      "source": [
        "# Data Analysis"
      ]
    },
    {
      "cell_type": "code",
      "metadata": {
        "colab": {
          "base_uri": "https://localhost:8080/"
        },
        "id": "cbOmVErl9m6h",
        "outputId": "9a8e7e4e-385a-41dd-cf27-64b3cfe839d1"
      },
      "source": [
        "print(type(X_train))\r\n",
        "print(type(y_train))"
      ],
      "execution_count": 104,
      "outputs": [
        {
          "output_type": "stream",
          "text": [
            "<class 'numpy.ndarray'>\n",
            "<class 'numpy.ndarray'>\n"
          ],
          "name": "stdout"
        }
      ]
    },
    {
      "cell_type": "code",
      "metadata": {
        "colab": {
          "base_uri": "https://localhost:8080/"
        },
        "id": "b3xBS3Ey9x2z",
        "outputId": "29736943-c374-4ba6-b634-ad4bb7a1a79f"
      },
      "source": [
        "X_train.shape"
      ],
      "execution_count": 105,
      "outputs": [
        {
          "output_type": "execute_result",
          "data": {
            "text/plain": [
              "(60000, 28, 28)"
            ]
          },
          "metadata": {
            "tags": []
          },
          "execution_count": 105
        }
      ]
    },
    {
      "cell_type": "code",
      "metadata": {
        "colab": {
          "base_uri": "https://localhost:8080/"
        },
        "id": "DnacpDX099fx",
        "outputId": "672e405f-436f-4b1e-d433-a8d3f9fbffd7"
      },
      "source": [
        "y_train.shape"
      ],
      "execution_count": 106,
      "outputs": [
        {
          "output_type": "execute_result",
          "data": {
            "text/plain": [
              "(60000,)"
            ]
          },
          "metadata": {
            "tags": []
          },
          "execution_count": 106
        }
      ]
    },
    {
      "cell_type": "code",
      "metadata": {
        "colab": {
          "base_uri": "https://localhost:8080/"
        },
        "id": "9elOud8y-cdI",
        "outputId": "0729d99b-4e1a-4cc1-f18d-748e3cf02bf0"
      },
      "source": [
        "y_train[0]"
      ],
      "execution_count": 107,
      "outputs": [
        {
          "output_type": "execute_result",
          "data": {
            "text/plain": [
              "5"
            ]
          },
          "metadata": {
            "tags": []
          },
          "execution_count": 107
        }
      ]
    },
    {
      "cell_type": "code",
      "metadata": {
        "colab": {
          "base_uri": "https://localhost:8080/"
        },
        "id": "3aqtShE9-p7m",
        "outputId": "b041abc0-2ae6-4df4-b438-2e838a01c7a6"
      },
      "source": [
        "pprint_numpy_matrix(X_train[0])"
      ],
      "execution_count": 108,
      "outputs": [
        {
          "output_type": "stream",
          "text": [
            "0  0  0  0    0    0    0    0    0    0    0    0    0    0    0    0    0    0    0    0    0    0    0    0  0  0  0  0  \n",
            "0  0  0  0    0    0    0    0    0    0    0    0    0    0    0    0    0    0    0    0    0    0    0    0  0  0  0  0  \n",
            "0  0  0  0    0    0    0    0    0    0    0    0    0    0    0    0    0    0    0    0    0    0    0    0  0  0  0  0  \n",
            "0  0  0  0    0    0    0    0    0    0    0    0    0    0    0    0    0    0    0    0    0    0    0    0  0  0  0  0  \n",
            "0  0  0  0    0    0    0    0    0    0    0    0    0    0    0    0    0    0    0    0    0    0    0    0  0  0  0  0  \n",
            "0  0  0  0    0    0    0    0    0    0    0    0    3   18   18   18  126  136  175   26  166  255  247  127  0  0  0  0  \n",
            "0  0  0  0    0    0    0    0   30   36   94  154  170  253  253  253  253  253  225  172  253  242  195   64  0  0  0  0  \n",
            "0  0  0  0    0    0    0   49  238  253  253  253  253  253  253  253  253  251   93   82   82   56   39    0  0  0  0  0  \n",
            "0  0  0  0    0    0    0   18  219  253  253  253  253  253  198  182  247  241    0    0    0    0    0    0  0  0  0  0  \n",
            "0  0  0  0    0    0    0    0   80  156  107  253  253  205   11    0   43  154    0    0    0    0    0    0  0  0  0  0  \n",
            "0  0  0  0    0    0    0    0    0   14    1  154  253   90    0    0    0    0    0    0    0    0    0    0  0  0  0  0  \n",
            "0  0  0  0    0    0    0    0    0    0    0  139  253  190    2    0    0    0    0    0    0    0    0    0  0  0  0  0  \n",
            "0  0  0  0    0    0    0    0    0    0    0   11  190  253   70    0    0    0    0    0    0    0    0    0  0  0  0  0  \n",
            "0  0  0  0    0    0    0    0    0    0    0    0   35  241  225  160  108    1    0    0    0    0    0    0  0  0  0  0  \n",
            "0  0  0  0    0    0    0    0    0    0    0    0    0   81  240  253  253  119   25    0    0    0    0    0  0  0  0  0  \n",
            "0  0  0  0    0    0    0    0    0    0    0    0    0    0   45  186  253  253  150   27    0    0    0    0  0  0  0  0  \n",
            "0  0  0  0    0    0    0    0    0    0    0    0    0    0    0   16   93  252  253  187    0    0    0    0  0  0  0  0  \n",
            "0  0  0  0    0    0    0    0    0    0    0    0    0    0    0    0    0  249  253  249   64    0    0    0  0  0  0  0  \n",
            "0  0  0  0    0    0    0    0    0    0    0    0    0    0   46  130  183  253  253  207    2    0    0    0  0  0  0  0  \n",
            "0  0  0  0    0    0    0    0    0    0    0    0   39  148  229  253  253  253  250  182    0    0    0    0  0  0  0  0  \n",
            "0  0  0  0    0    0    0    0    0    0   24  114  221  253  253  253  253  201   78    0    0    0    0    0  0  0  0  0  \n",
            "0  0  0  0    0    0    0    0   23   66  213  253  253  253  253  198   81    2    0    0    0    0    0    0  0  0  0  0  \n",
            "0  0  0  0    0    0   18  171  219  253  253  253  253  195   80    9    0    0    0    0    0    0    0    0  0  0  0  0  \n",
            "0  0  0  0   55  172  226  253  253  253  253  244  133   11    0    0    0    0    0    0    0    0    0    0  0  0  0  0  \n",
            "0  0  0  0  136  253  253  253  212  135  132   16    0    0    0    0    0    0    0    0    0    0    0    0  0  0  0  0  \n",
            "0  0  0  0    0    0    0    0    0    0    0    0    0    0    0    0    0    0    0    0    0    0    0    0  0  0  0  0  \n",
            "0  0  0  0    0    0    0    0    0    0    0    0    0    0    0    0    0    0    0    0    0    0    0    0  0  0  0  0  \n",
            "0  0  0  0    0    0    0    0    0    0    0    0    0    0    0    0    0    0    0    0    0    0    0    0  0  0  0  0  \n"
          ],
          "name": "stdout"
        }
      ]
    },
    {
      "cell_type": "code",
      "metadata": {
        "colab": {
          "base_uri": "https://localhost:8080/",
          "height": 282
        },
        "id": "bbFg3yby_P4m",
        "outputId": "70b06958-413a-4215-83d9-295c2b34c461"
      },
      "source": [
        "# index can goes from 0 to 59 999\r\n",
        "index = 0\r\n",
        "\r\n",
        "# plot the image\r\n",
        "plt.imshow(X_train[index], cmap='Greys', interpolation='nearest')\r\n",
        "plt.show()\r\n",
        "\r\n",
        "print('Cette image représente le chiffre', y_train[index])"
      ],
      "execution_count": 109,
      "outputs": [
        {
          "output_type": "display_data",
          "data": {
            "image/png": "[encoded data removed]",
            "text/plain": [
              "<Figure size 432x288 with 1 Axes>"
            ]
          },
          "metadata": {
            "tags": [],
            "needs_background": "light"
          }
        },
        {
          "output_type": "stream",
          "text": [
            "Cette image représente le chiffre 5\n"
          ],
          "name": "stdout"
        }
      ]
    },
    {
      "cell_type": "markdown",
      "metadata": {
        "id": "6TwTCqnjA0xu"
      },
      "source": [
        "# Cleaning"
      ]
    },
    {
      "cell_type": "code",
      "metadata": {
        "id": "mVuUlRJOA2va"
      },
      "source": [
        "y_train = keras.utils.to_categorical(y_train)\r\n",
        "y_test = keras.utils.to_categorical(y_test)"
      ],
      "execution_count": 110,
      "outputs": []
    },
    {
      "cell_type": "code",
      "metadata": {
        "colab": {
          "base_uri": "https://localhost:8080/"
        },
        "id": "9SZZjmCeBa-y",
        "outputId": "caede851-3758-476a-fa1b-50bfdcd91e8f"
      },
      "source": [
        "y_train[0]"
      ],
      "execution_count": 111,
      "outputs": [
        {
          "output_type": "execute_result",
          "data": {
            "text/plain": [
              "array([0., 0., 0., 0., 0., 1., 0., 0., 0., 0.], dtype=float32)"
            ]
          },
          "metadata": {
            "tags": []
          },
          "execution_count": 111
        }
      ]
    },
    {
      "cell_type": "code",
      "metadata": {
        "id": "k-6HJ5FYBgUI"
      },
      "source": [
        "# Reshape\r\n",
        "X_train = X_train.reshape((X_train.shape[0], 28, 28, 1))\r\n",
        "X_test = X_test.reshape((X_test.shape[0], 28, 28, 1))"
      ],
      "execution_count": 112,
      "outputs": []
    },
    {
      "cell_type": "code",
      "metadata": {
        "id": "OjEgk4QICIPR"
      },
      "source": [
        "X_train = X_train.astype('float32')\r\n",
        "X_test = X_test.astype('float32')"
      ],
      "execution_count": 113,
      "outputs": []
    },
    {
      "cell_type": "code",
      "metadata": {
        "id": "y-Fzpfg1CNrX"
      },
      "source": [
        "X_train = X_train / 255.0\r\n",
        "X_test = X_test / 255.0"
      ],
      "execution_count": 114,
      "outputs": []
    },
    {
      "cell_type": "code",
      "metadata": {
        "colab": {
          "base_uri": "https://localhost:8080/"
        },
        "id": "l9gfgDWpCf4e",
        "outputId": "9a801b00-5ff4-4748-d19d-85e712958a27"
      },
      "source": [
        "print(\"min\", X_train[0].min())\r\n",
        "print(\"max\", X_train[0].max())"
      ],
      "execution_count": 115,
      "outputs": [
        {
          "output_type": "stream",
          "text": [
            "min 0.0\n",
            "max 1.0\n"
          ],
          "name": "stdout"
        }
      ]
    },
    {
      "cell_type": "code",
      "metadata": {
        "colab": {
          "base_uri": "https://localhost:8080/"
        },
        "id": "Ehh8hobzDSv_",
        "outputId": "d86f8293-baea-4d8b-89fb-cce4cdf6544a"
      },
      "source": [
        "print(\"max\", X_train[0].max())"
      ],
      "execution_count": 116,
      "outputs": [
        {
          "output_type": "stream",
          "text": [
            "max 1.0\n"
          ],
          "name": "stdout"
        }
      ]
    },
    {
      "cell_type": "code",
      "metadata": {
        "id": "uxftQETZDU-k"
      },
      "source": [
        ""
      ],
      "execution_count": 116,
      "outputs": []
    },
    {
      "cell_type": "markdown",
      "metadata": {
        "id": "-mogHyuGRU-9"
      },
      "source": [
        "# Data Gen"
      ]
    },
    {
      "cell_type": "code",
      "metadata": {
        "id": "CGMO2IhcMYbh"
      },
      "source": [
        "epochs = 30\r\n",
        "batch_size = 32\r\n",
        "learning_rate = 0.00001"
      ],
      "execution_count": 117,
      "outputs": []
    },
    {
      "cell_type": "code",
      "metadata": {
        "id": "0npFfzBSRbXv"
      },
      "source": [
        "train_datagen = tf.keras.preprocessing.image.ImageDataGenerator(\r\n",
        "    zoom_range=0.1,\r\n",
        "    rotation_range=10\r\n",
        ").flow(\r\n",
        "    X_train,\r\n",
        "    y=y_train,\r\n",
        "    batch_size=batch_size,\r\n",
        "    shuffle=True,\r\n",
        "    seed=42\r\n",
        ")"
      ],
      "execution_count": 118,
      "outputs": []
    },
    {
      "cell_type": "code",
      "metadata": {
        "id": "zW2GGn2oS1lU"
      },
      "source": [
        "test_datagen = tf.keras.preprocessing.image.ImageDataGenerator(\r\n",
        "\r\n",
        ").flow(\r\n",
        "    X_test,\r\n",
        "    y=y_test,\r\n",
        "    batch_size=batch_size,\r\n",
        "    shuffle=False,\r\n",
        "    seed=42\r\n",
        ")"
      ],
      "execution_count": 119,
      "outputs": []
    },
    {
      "cell_type": "code",
      "metadata": {
        "id": "on4G8YHHRd0q"
      },
      "source": [
        "a = iter(train_datagen)\r\n",
        "# a.next()[0]"
      ],
      "execution_count": 145,
      "outputs": []
    },
    {
      "cell_type": "code",
      "metadata": {
        "colab": {
          "base_uri": "https://localhost:8080/",
          "height": 448
        },
        "id": "kfdbIqbhSdkC",
        "outputId": "96b3dcfe-d992-4738-db49-87fe8a70d5cf"
      },
      "source": [
        "fig=plt.figure(figsize=(30, 8))\r\n",
        "columns = 5\r\n",
        "rows = 2\r\n",
        "batch = a.next()[0]\r\n",
        "for i in range(1, columns*rows +1):\r\n",
        "    \r\n",
        "    # Print the image\r\n",
        "    fig.add_subplot(rows, columns, i)\r\n",
        "    plt.imshow(batch[i].squeeze())\r\n",
        "    \r\n",
        "plt.show()"
      ],
      "execution_count": 144,
      "outputs": [
        {
          "output_type": "display_data",
          "data": {
            "image/png": "[encoded data removed]",
            "text/plain": [
              "<Figure size 2160x576 with 10 Axes>"
            ]
          },
          "metadata": {
            "tags": [],
            "needs_background": "light"
          }
        }
      ]
    },
    {
      "cell_type": "markdown",
      "metadata": {
        "id": "LqfZgcklDcMG"
      },
      "source": [
        "# Model creation"
      ]
    },
    {
      "cell_type": "code",
      "metadata": {
        "id": "TnebUg1fDjev"
      },
      "source": [
        "def create_model():\r\n",
        "\r\n",
        "  # Init a sequential model\r\n",
        "  model = keras.Sequential([\r\n",
        "\r\n",
        "\r\n",
        "    # Part 1: Feature detector\r\n",
        "    # --------------------------------------------------------------------------\r\n",
        "\r\n",
        "    # First VGG block\r\n",
        "    # Hidden layer 1: 32 filters, 3x3 kernel, relu activation function\r\n",
        "    layers.Conv2D(32, (3, 3), input_shape=(28, 28, 1), kernel_initializer='he_uniform', activation='relu'),\r\n",
        "    \r\n",
        "    layers.BatchNormalization(),\r\n",
        "    layers.MaxPooling2D((2, 2)),\r\n",
        "\r\n",
        "\r\n",
        "    # Second VGG block\r\n",
        "    layers.Conv2D(64, (3, 3),  kernel_initializer='he_uniform', activation='relu'),\r\n",
        "    layers.Conv2D(64, (3, 3), padding='same', kernel_initializer='he_uniform', activation='relu'),\r\n",
        "\r\n",
        "    layers.Dropout(0.2),\r\n",
        "    layers.MaxPooling2D((2, 2)),\r\n",
        "\r\n",
        "\r\n",
        "    # Third VGG block\r\n",
        "    layers.Conv2D(128, (3, 3), padding='same', kernel_initializer='he_uniform', activation='relu'),\r\n",
        "    layers.Conv2D(128, (3, 3), kernel_initializer='he_uniform', activation='relu'),\r\n",
        "    layers.Conv2D(128, (3, 3), padding='same', kernel_initializer='he_uniform', activation='relu'),\r\n",
        "    \r\n",
        "    layers.Dropout(0.2),\r\n",
        "    layers.Flatten(),\r\n",
        "\r\n",
        "\r\n",
        "    # Part 2: classifier\r\n",
        "    # --------------------------------------------------------------------------\r\n",
        "\r\n",
        "    # Simple ANN\r\n",
        "    layers.Dense(128, kernel_initializer='he_uniform', activation='relu'),\r\n",
        "    layers.Dense(128, kernel_initializer='he_uniform', activation='relu'),\r\n",
        "    layers.Dropout(0.4),\r\n",
        "\r\n",
        "    # Output layer\r\n",
        "    layers.Dense(10, activation='softmax')\r\n",
        "\r\n",
        "  ])\r\n",
        "\r\n",
        "\r\n",
        "\r\n",
        "  return model"
      ],
      "execution_count": 120,
      "outputs": []
    },
    {
      "cell_type": "code",
      "metadata": {
        "id": "z8AA7h5fKPmw"
      },
      "source": [
        "model = create_model()"
      ],
      "execution_count": 121,
      "outputs": []
    },
    {
      "cell_type": "code",
      "metadata": {
        "id": "X_mUAgkWLlX7"
      },
      "source": [
        "# Compile model \r\n",
        "opt = keras.optimizers.Adam(learning_rate=learning_rate)\r\n",
        "\r\n",
        "model.compile(optimizer=opt,\r\n",
        "              loss='categorical_crossentropy',\r\n",
        "              metrics=['accuracy'])"
      ],
      "execution_count": 122,
      "outputs": []
    },
    {
      "cell_type": "code",
      "metadata": {
        "colab": {
          "base_uri": "https://localhost:8080/"
        },
        "id": "dVAnoU4iLpgC",
        "outputId": "81eab281-1f36-4122-be7f-c8f8946f53d8"
      },
      "source": [
        "model.summary()"
      ],
      "execution_count": 123,
      "outputs": [
        {
          "output_type": "stream",
          "text": [
            "Model: \"sequential_5\"\n",
            "_________________________________________________________________\n",
            "Layer (type)                 Output Shape              Param #   \n",
            "=================================================================\n",
            "conv2d_31 (Conv2D)           (None, 26, 26, 32)        320       \n",
            "_________________________________________________________________\n",
            "batch_normalization_6 (Batch (None, 26, 26, 32)        128       \n",
            "_________________________________________________________________\n",
            "max_pooling2d_10 (MaxPooling (None, 13, 13, 32)        0         \n",
            "_________________________________________________________________\n",
            "conv2d_32 (Conv2D)           (None, 11, 11, 64)        18496     \n",
            "_________________________________________________________________\n",
            "conv2d_33 (Conv2D)           (None, 11, 11, 64)        36928     \n",
            "_________________________________________________________________\n",
            "dropout_18 (Dropout)         (None, 11, 11, 64)        0         \n",
            "_________________________________________________________________\n",
            "max_pooling2d_11 (MaxPooling (None, 5, 5, 64)          0         \n",
            "_________________________________________________________________\n",
            "conv2d_34 (Conv2D)           (None, 5, 5, 128)         73856     \n",
            "_________________________________________________________________\n",
            "conv2d_35 (Conv2D)           (None, 3, 3, 128)         147584    \n",
            "_________________________________________________________________\n",
            "conv2d_36 (Conv2D)           (None, 3, 3, 128)         147584    \n",
            "_________________________________________________________________\n",
            "dropout_19 (Dropout)         (None, 3, 3, 128)         0         \n",
            "_________________________________________________________________\n",
            "flatten_5 (Flatten)          (None, 1152)              0         \n",
            "_________________________________________________________________\n",
            "dense_15 (Dense)             (None, 128)               147584    \n",
            "_________________________________________________________________\n",
            "dense_16 (Dense)             (None, 128)               16512     \n",
            "_________________________________________________________________\n",
            "dropout_20 (Dropout)         (None, 128)               0         \n",
            "_________________________________________________________________\n",
            "dense_17 (Dense)             (None, 10)                1290      \n",
            "=================================================================\n",
            "Total params: 590,282\n",
            "Trainable params: 590,218\n",
            "Non-trainable params: 64\n",
            "_________________________________________________________________\n"
          ],
          "name": "stdout"
        }
      ]
    },
    {
      "cell_type": "code",
      "metadata": {
        "colab": {
          "base_uri": "https://localhost:8080/"
        },
        "id": "DjxSVtfjLq9i",
        "outputId": "543ddc59-5d23-40d0-c4a4-47f622bee383"
      },
      "source": [
        "cnn = model.fit(train_datagen, epochs=epochs, validation_data=test_datagen)"
      ],
      "execution_count": 124,
      "outputs": [
        {
          "output_type": "stream",
          "text": [
            "Epoch 1/30\n",
            "1875/1875 [==============================] - 20s 10ms/step - loss: 2.2061 - accuracy: 0.3011 - val_loss: 0.4325 - val_accuracy: 0.8717\n",
            "Epoch 2/30\n",
            "1875/1875 [==============================] - 19s 10ms/step - loss: 0.7358 - accuracy: 0.7618 - val_loss: 0.2120 - val_accuracy: 0.9331\n",
            "Epoch 3/30\n",
            "1875/1875 [==============================] - 19s 10ms/step - loss: 0.4368 - accuracy: 0.8631 - val_loss: 0.1436 - val_accuracy: 0.9554\n",
            "Epoch 4/30\n",
            "1875/1875 [==============================] - 19s 10ms/step - loss: 0.3159 - accuracy: 0.9037 - val_loss: 0.1115 - val_accuracy: 0.9652\n",
            "Epoch 5/30\n",
            "1875/1875 [==============================] - 18s 10ms/step - loss: 0.2438 - accuracy: 0.9245 - val_loss: 0.0903 - val_accuracy: 0.9730\n",
            "Epoch 6/30\n",
            "1875/1875 [==============================] - 18s 10ms/step - loss: 0.1980 - accuracy: 0.9396 - val_loss: 0.0785 - val_accuracy: 0.9766\n",
            "Epoch 7/30\n",
            "1875/1875 [==============================] - 18s 10ms/step - loss: 0.1770 - accuracy: 0.9461 - val_loss: 0.0672 - val_accuracy: 0.9790\n",
            "Epoch 8/30\n",
            "1875/1875 [==============================] - 18s 9ms/step - loss: 0.1509 - accuracy: 0.9572 - val_loss: 0.0612 - val_accuracy: 0.9808\n",
            "Epoch 9/30\n",
            "1875/1875 [==============================] - 18s 10ms/step - loss: 0.1350 - accuracy: 0.9597 - val_loss: 0.0557 - val_accuracy: 0.9831\n",
            "Epoch 10/30\n",
            "1875/1875 [==============================] - 18s 9ms/step - loss: 0.1200 - accuracy: 0.9653 - val_loss: 0.0526 - val_accuracy: 0.9836\n",
            "Epoch 11/30\n",
            "1875/1875 [==============================] - 18s 10ms/step - loss: 0.1123 - accuracy: 0.9673 - val_loss: 0.0462 - val_accuracy: 0.9852\n",
            "Epoch 12/30\n",
            "1875/1875 [==============================] - 18s 10ms/step - loss: 0.1056 - accuracy: 0.9694 - val_loss: 0.0438 - val_accuracy: 0.9851\n",
            "Epoch 13/30\n",
            "1875/1875 [==============================] - 18s 10ms/step - loss: 0.0984 - accuracy: 0.9705 - val_loss: 0.0411 - val_accuracy: 0.9867\n",
            "Epoch 14/30\n",
            "1875/1875 [==============================] - 18s 9ms/step - loss: 0.0939 - accuracy: 0.9719 - val_loss: 0.0443 - val_accuracy: 0.9849\n",
            "Epoch 15/30\n",
            "1875/1875 [==============================] - 18s 9ms/step - loss: 0.0816 - accuracy: 0.9760 - val_loss: 0.0378 - val_accuracy: 0.9882\n",
            "Epoch 16/30\n",
            "1875/1875 [==============================] - 18s 9ms/step - loss: 0.0813 - accuracy: 0.9764 - val_loss: 0.0377 - val_accuracy: 0.9882\n",
            "Epoch 17/30\n",
            "1875/1875 [==============================] - 18s 10ms/step - loss: 0.0740 - accuracy: 0.9785 - val_loss: 0.0400 - val_accuracy: 0.9867\n",
            "Epoch 18/30\n",
            "1875/1875 [==============================] - 18s 10ms/step - loss: 0.0687 - accuracy: 0.9800 - val_loss: 0.0363 - val_accuracy: 0.9880\n",
            "Epoch 19/30\n",
            "1875/1875 [==============================] - 18s 10ms/step - loss: 0.0679 - accuracy: 0.9807 - val_loss: 0.0340 - val_accuracy: 0.9892\n",
            "Epoch 20/30\n",
            "1875/1875 [==============================] - 18s 10ms/step - loss: 0.0668 - accuracy: 0.9801 - val_loss: 0.0347 - val_accuracy: 0.9885\n",
            "Epoch 21/30\n",
            "1875/1875 [==============================] - 18s 9ms/step - loss: 0.0619 - accuracy: 0.9819 - val_loss: 0.0358 - val_accuracy: 0.9882\n",
            "Epoch 22/30\n",
            "1875/1875 [==============================] - 18s 10ms/step - loss: 0.0583 - accuracy: 0.9831 - val_loss: 0.0330 - val_accuracy: 0.9894\n",
            "Epoch 23/30\n",
            "1875/1875 [==============================] - 18s 10ms/step - loss: 0.0572 - accuracy: 0.9829 - val_loss: 0.0319 - val_accuracy: 0.9898\n",
            "Epoch 24/30\n",
            "1875/1875 [==============================] - 18s 10ms/step - loss: 0.0572 - accuracy: 0.9828 - val_loss: 0.0322 - val_accuracy: 0.9896\n",
            "Epoch 25/30\n",
            "1875/1875 [==============================] - 18s 9ms/step - loss: 0.0550 - accuracy: 0.9838 - val_loss: 0.0321 - val_accuracy: 0.9893\n",
            "Epoch 26/30\n",
            "1875/1875 [==============================] - 18s 10ms/step - loss: 0.0503 - accuracy: 0.9851 - val_loss: 0.0325 - val_accuracy: 0.9895\n",
            "Epoch 27/30\n",
            "1875/1875 [==============================] - 18s 10ms/step - loss: 0.0510 - accuracy: 0.9851 - val_loss: 0.0291 - val_accuracy: 0.9913\n",
            "Epoch 28/30\n",
            "1875/1875 [==============================] - 18s 10ms/step - loss: 0.0478 - accuracy: 0.9860 - val_loss: 0.0324 - val_accuracy: 0.9898\n",
            "Epoch 29/30\n",
            "1875/1875 [==============================] - 18s 10ms/step - loss: 0.0445 - accuracy: 0.9870 - val_loss: 0.0279 - val_accuracy: 0.9909\n",
            "Epoch 30/30\n",
            "1875/1875 [==============================] - 18s 10ms/step - loss: 0.0422 - accuracy: 0.9875 - val_loss: 0.0309 - val_accuracy: 0.9898\n"
          ],
          "name": "stdout"
        }
      ]
    },
    {
      "cell_type": "code",
      "metadata": {
        "colab": {
          "base_uri": "https://localhost:8080/"
        },
        "id": "olteYS3eOIgO",
        "outputId": "f1a15eed-1c80-4b45-97a0-493a8577cd9f"
      },
      "source": [
        "scores = model.evaluate(X_test, y_test)\r\n",
        "print('Accuracy : %.2f%%' % (scores[1]*100))"
      ],
      "execution_count": 125,
      "outputs": [
        {
          "output_type": "stream",
          "text": [
            "313/313 [==============================] - 1s 3ms/step - loss: 0.0309 - accuracy: 0.9898\n",
            "Accuracy : 98.98%\n"
          ],
          "name": "stdout"
        }
      ]
    },
    {
      "cell_type": "markdown",
      "metadata": {
        "id": "BkJViveNPJaR"
      },
      "source": [
        "# Model evaluation"
      ]
    },
    {
      "cell_type": "code",
      "metadata": {
        "colab": {
          "base_uri": "https://localhost:8080/",
          "height": 269
        },
        "id": "pkuQWWA2OYne",
        "outputId": "7f972573-7268-440c-b571-879f4aa0e74b"
      },
      "source": [
        "plt.plot(cnn.history['loss'], label='Train Loss')\r\n",
        "plt.plot(cnn.history['val_loss'], label='Validation Loss')\r\n",
        "plt.ylim([0, 1])\r\n",
        "\r\n",
        "plt.legend()\r\n",
        "plt.show()\r\n"
      ],
      "execution_count": 126,
      "outputs": [
        {
          "output_type": "display_data",
          "data": {
            "image/png": "[encoded data removed]",
            "text/plain": [
              "<Figure size 432x288 with 1 Axes>"
            ]
          },
          "metadata": {
            "tags": [],
            "needs_background": "light"
          }
        }
      ]
    },
    {
      "cell_type": "code",
      "metadata": {
        "colab": {
          "base_uri": "https://localhost:8080/",
          "height": 269
        },
        "id": "y0PcKrr3P9Rh",
        "outputId": "09612f1d-4b7b-40f8-8efc-5332022f1d7f"
      },
      "source": [
        "plt.plot(cnn.history['accuracy'], label='Train Accuracy')\r\n",
        "plt.plot(cnn.history['val_accuracy'], label='Validation Accuracy')\r\n",
        "plt.ylim([0.5, 1])\r\n",
        "\r\n",
        "plt.legend()\r\n",
        "plt.show()"
      ],
      "execution_count": 127,
      "outputs": [
        {
          "output_type": "display_data",
          "data": {
            "image/png": "[encoded data removed]",
            "text/plain": [
              "<Figure size 432x288 with 1 Axes>"
            ]
          },
          "metadata": {
            "tags": [],
            "needs_background": "light"
          }
        }
      ]
    },
    {
      "cell_type": "markdown",
      "metadata": {
        "id": "rnH8CQdCTWLT"
      },
      "source": [
        "# Prediction"
      ]
    },
    {
      "cell_type": "code",
      "metadata": {
        "id": "lVdiUg6lTZoB"
      },
      "source": [
        "width, height, *_ = X_train[0].shape\r\n",
        "\r\n",
        "prob = model.predict(X_test[11].reshape(1, width, height, 1))\r\n",
        "predicted_class = np.argmax(prob, axis=-1)[0]"
      ],
      "execution_count": 128,
      "outputs": []
    },
    {
      "cell_type": "code",
      "metadata": {
        "colab": {
          "base_uri": "https://localhost:8080/"
        },
        "id": "zwhVGNthUAbn",
        "outputId": "c24dd21f-5701-4f93-ac37-e3ff877beb08"
      },
      "source": [
        "predicted_class"
      ],
      "execution_count": 129,
      "outputs": [
        {
          "output_type": "execute_result",
          "data": {
            "text/plain": [
              "6"
            ]
          },
          "metadata": {
            "tags": []
          },
          "execution_count": 129
        }
      ]
    },
    {
      "cell_type": "code",
      "metadata": {
        "colab": {
          "base_uri": "https://localhost:8080/"
        },
        "id": "pFNXROabWx9J",
        "outputId": "c2069a4e-8616-49ad-a547-8530544d2447"
      },
      "source": [
        "np.argmax(y_test[11])"
      ],
      "execution_count": 130,
      "outputs": [
        {
          "output_type": "execute_result",
          "data": {
            "text/plain": [
              "6"
            ]
          },
          "metadata": {
            "tags": []
          },
          "execution_count": 130
        }
      ]
    },
    {
      "cell_type": "code",
      "metadata": {
        "colab": {
          "base_uri": "https://localhost:8080/"
        },
        "id": "ltd6LekTImCv",
        "outputId": "2faf4d1f-aadf-4dac-a9d2-54f9ea5bf0c0"
      },
      "source": [
        "y_test.argmax(axis=1)"
      ],
      "execution_count": 131,
      "outputs": [
        {
          "output_type": "execute_result",
          "data": {
            "text/plain": [
              "array([7, 2, 1, ..., 4, 5, 6])"
            ]
          },
          "metadata": {
            "tags": []
          },
          "execution_count": 131
        }
      ]
    },
    {
      "cell_type": "code",
      "metadata": {
        "id": "nCqv7ejhXNPD",
        "colab": {
          "base_uri": "https://localhost:8080/",
          "height": 282
        },
        "outputId": "f46db80a-e74d-46a2-ab5d-0cfadf679182"
      },
      "source": [
        "from sklearn.metrics import confusion_matrix\r\n",
        "y_pred = model.predict(X_test)\r\n",
        "cf_matrix = confusion_matrix(y_test.argmax(axis=1), y_pred.argmax(axis=1))\r\n",
        "\r\n",
        "sns.heatmap(cf_matrix, annot=True, fmt='g')"
      ],
      "execution_count": 132,
      "outputs": [
        {
          "output_type": "execute_result",
          "data": {
            "text/plain": [
              "<matplotlib.axes._subplots.AxesSubplot at 0x7f0d103cc4a8>"
            ]
          },
          "metadata": {
            "tags": []
          },
          "execution_count": 132
        },
        {
          "output_type": "display_data",
          "data": {
            "image/png": "[encoded data removed]",
            "text/plain": [
              "<Figure size 432x288 with 2 Axes>"
            ]
          },
          "metadata": {
            "tags": [],
            "needs_background": "light"
          }
        }
      ]
    },
    {
      "cell_type": "markdown",
      "metadata": {
        "id": "S34kfSTnYnWb"
      },
      "source": [
        "# Saving model"
      ]
    },
    {
      "cell_type": "code",
      "metadata": {
        "id": "OGLrr7bNYswd"
      },
      "source": [
        "model.save('mnist_cnn_model.h5')"
      ],
      "execution_count": 133,
      "outputs": []
    },
    {
      "cell_type": "code",
      "metadata": {
        "id": "7LxaXUZ7YyK_"
      },
      "source": [
        ""
      ],
      "execution_count": 133,
      "outputs": []
    }
  ]
}